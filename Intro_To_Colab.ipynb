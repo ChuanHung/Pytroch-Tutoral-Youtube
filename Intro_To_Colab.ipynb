{
  "nbformat": 4,
  "nbformat_minor": 0,
  "metadata": {
    "colab": {
      "provenance": [],
      "gpuType": "T4",
      "authorship_tag": "ABX9TyNk4OS6Ie2K1JJRFdrhMlf/",
      "include_colab_link": true
    },
    "kernelspec": {
      "name": "python3",
      "display_name": "Python 3"
    },
    "language_info": {
      "name": "python"
    },
    "accelerator": "GPU"
  },
  "cells": [
    {
      "cell_type": "markdown",
      "metadata": {
        "id": "view-in-github",
        "colab_type": "text"
      },
      "source": [
        "<a href=\"https://colab.research.google.com/github/ChuanHung/Pytroch-Tutoral-Youtube/blob/main/Intro_To_Colab.ipynb\" target=\"_parent\"><img src=\"https://colab.research.google.com/assets/colab-badge.svg\" alt=\"Open In Colab\"/></a>"
      ]
    },
    {
      "cell_type": "code",
      "source": [
        "import torch\n",
        "import numpy as np\n"
      ],
      "metadata": {
        "id": "CrQuzaMHnQQj"
      },
      "execution_count": null,
      "outputs": []
    },
    {
      "cell_type": "markdown",
      "source": [
        "List - 陣列"
      ],
      "metadata": {
        "id": "QAu_7r_30J0X"
      }
    },
    {
      "cell_type": "code",
      "source": [
        "my_list = [1,2,3,4,5],[6,7,8,9,10]\n",
        "my_list"
      ],
      "metadata": {
        "colab": {
          "base_uri": "https://localhost:8080/"
        },
        "id": "PRGL6CBM0L05",
        "outputId": "1eee9d93-63d7-44af-e080-97b32ea63bbe"
      },
      "execution_count": null,
      "outputs": [
        {
          "output_type": "execute_result",
          "data": {
            "text/plain": [
              "[1, 2, 3, 4, 5]"
            ]
          },
          "metadata": {},
          "execution_count": 5
        }
      ]
    },
    {
      "cell_type": "markdown",
      "source": [
        "Numpy Arrays - 矩陣陣列"
      ],
      "metadata": {
        "id": "ddPDZmPs0nAX"
      }
    },
    {
      "cell_type": "code",
      "source": [
        "np1 = np.random.rand(4,5)\n",
        "np1"
      ],
      "metadata": {
        "colab": {
          "base_uri": "https://localhost:8080/"
        },
        "id": "VQIXkllL1K6J",
        "outputId": "eca9d411-d175-488b-f5a9-8df8790c7fea"
      },
      "execution_count": null,
      "outputs": [
        {
          "output_type": "execute_result",
          "data": {
            "text/plain": [
              "array([[0.83628033, 0.45852682, 0.08898459, 0.23828567, 0.42309585],\n",
              "       [0.39809878, 0.73162522, 0.60692074, 0.73571356, 0.24646856],\n",
              "       [0.67002739, 0.32283065, 0.24616404, 0.49258765, 0.60757102],\n",
              "       [0.95236411, 0.54309956, 0.41262756, 0.69896162, 0.39977275]])"
            ]
          },
          "metadata": {},
          "execution_count": 7
        }
      ]
    },
    {
      "cell_type": "markdown",
      "source": [
        "Tensor - 張量"
      ],
      "metadata": {
        "id": "nF9Keawj1aLu"
      }
    },
    {
      "cell_type": "code",
      "source": [
        "tensor_2d = torch.randn(3,4)\n",
        "tensor_2d"
      ],
      "metadata": {
        "colab": {
          "base_uri": "https://localhost:8080/"
        },
        "id": "rqNHa2B-1c57",
        "outputId": "4cb47d67-5df6-425f-e7cd-8d48c87be90b"
      },
      "execution_count": null,
      "outputs": [
        {
          "output_type": "execute_result",
          "data": {
            "text/plain": [
              "tensor([[-0.8065,  0.6784, -0.2756,  0.2052],\n",
              "        [ 0.3770, -0.1745, -0.6690, -0.3657],\n",
              "        [ 0.2861, -0.7234,  1.0207, -0.6864]])"
            ]
          },
          "metadata": {},
          "execution_count": 9
        }
      ]
    },
    {
      "cell_type": "code",
      "source": [
        "tensor_3d = torch.zeros(2,3,4)\n",
        "tensor_3d"
      ],
      "metadata": {
        "colab": {
          "base_uri": "https://localhost:8080/"
        },
        "id": "6x8RaW6P6ZFn",
        "outputId": "105b8f2d-d639-4ee9-b1b7-7ae55d20ab77"
      },
      "execution_count": null,
      "outputs": [
        {
          "output_type": "execute_result",
          "data": {
            "text/plain": [
              "tensor([[[0., 0., 0., 0.],\n",
              "         [0., 0., 0., 0.],\n",
              "         [0., 0., 0., 0.]],\n",
              "\n",
              "        [[0., 0., 0., 0.],\n",
              "         [0., 0., 0., 0.],\n",
              "         [0., 0., 0., 0.]]])"
            ]
          },
          "metadata": {},
          "execution_count": 10
        }
      ]
    },
    {
      "cell_type": "code",
      "source": [
        "## Create tensor out numpy array - 建立張量超過陣列\n",
        "my_tensor = torch.tensor(np1)\n",
        "my_tensor"
      ],
      "metadata": {
        "colab": {
          "base_uri": "https://localhost:8080/"
        },
        "id": "qypUzpk16oS2",
        "outputId": "a31f70c4-3a40-416c-b9ac-cd47c79720cd"
      },
      "execution_count": null,
      "outputs": [
        {
          "output_type": "execute_result",
          "data": {
            "text/plain": [
              "tensor([[0.8363, 0.4585, 0.0890, 0.2383, 0.4231],\n",
              "        [0.3981, 0.7316, 0.6069, 0.7357, 0.2465],\n",
              "        [0.6700, 0.3228, 0.2462, 0.4926, 0.6076],\n",
              "        [0.9524, 0.5431, 0.4126, 0.6990, 0.3998]], dtype=torch.float64)"
            ]
          },
          "metadata": {},
          "execution_count": 11
        }
      ]
    }
  ]
}